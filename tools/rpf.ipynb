{
 "cells": [
  {
   "cell_type": "code",
   "execution_count": 6,
   "metadata": {},
   "outputs": [],
   "source": [
    "import numpy as np\n",
    "import struct\n",
    "from sklearn.metrics import mutual_info_score\n",
    "from sklearn.preprocessing import scale\n",
    "import cv2 as cv"
   ]
  },
  {
   "cell_type": "code",
   "execution_count": 7,
   "metadata": {},
   "outputs": [
    {
     "name": "stdout",
     "output_type": "stream",
     "text": [
      "100 100 8 28\n",
      "[ 5.82861328e+00  1.05459538e+01  2.56491732e-02  2.56491732e-02\n",
      "  4.10386808e-02 -4.00000000e+02  2.95105316e+02 -1.33042297e+01\n",
      "  0.00000000e+00  0.00000000e+00  0.00000000e+00  5.00000000e-01\n",
      "  5.00000000e-01  8.00000012e-01  0.00000000e+00  0.00000000e+00\n",
      "  0.00000000e+00  0.00000000e+00  0.00000000e+00  0.00000000e+00\n",
      "  0.00000000e+00  0.00000000e+00  0.00000000e+00  1.25136793e-01\n",
      "  3.10504138e-01  5.03994346e-01  0.00000000e+00  0.00000000e+00]\n"
     ]
    }
   ],
   "source": [
    "with open('../scenes/sample.dat', 'rb') as f:\n",
    "    fileContent = f.read()\n",
    "    width, height, spp, SL = struct.unpack(\"QQQQ\", fileContent[:32])\n",
    "    samples = struct.unpack(\"f\" * ((len(fileContent) - 32) // 4), fileContent[32:])\n",
    "    raw = np.array(samples)\n",
    "    samples = np.reshape(raw, (width, height, spp, SL))\n",
    "print(width, height, spp, SL)\n",
    "print(samples[10,5,4,:])    "
   ]
  },
  {
   "cell_type": "code",
   "execution_count": 17,
   "metadata": {},
   "outputs": [],
   "source": [
    "def preprocess(x, y, b, M):\n",
    "    # Sample neighbors based on gaussian distribution\n",
    "    indexN = np.random.multivariate_normal(mean=[x, y], cov=(b/4) * np.identity(2), size=M-spp)\n",
    "    indexN = np.clip(indexN, 0, 99)\n",
    "    indexN = np.around(indexN)\n",
    "    randSampleInPixel = np.random.randint(7, size=(M-spp, 1))\n",
    "    indexN = np.concatenate((indexN,randSampleInPixel), axis = 1)\n",
    "    sampleMapper = lambda v: samples[int(v[0]), int(v[1]), int(v[2]),:]\n",
    "    N = np.apply_along_axis(sampleMapper, 1, indexN)\n",
    "    N = np.concatenate((samples[x, y, :, :], N), axis = 0)\n",
    "    # Cluster samples\n",
    "    discard = []\n",
    "    featOffset = 2\n",
    "    for i in range(4):\n",
    "        feat = N[:, featOffset:featOffset + 3]\n",
    "        featOffset += 3\n",
    "        m = np.mean(feat)\n",
    "        std = np.std(feat)\n",
    "        if std > 0.1:\n",
    "            for j in range(M):\n",
    "                if featOffset == 5:\n",
    "                    if np.abs(m - np.mean(feat[j])) > 30 * std:\n",
    "                        discard.append(j)\n",
    "                else:\n",
    "                    if np.abs(m - np.mean(feat[j])) > 3 * std:\n",
    "                        discard.append(j)\n",
    "    newN = []\n",
    "    for i in range(M):\n",
    "        if i not in discard:\n",
    "            newN.append(N[i])\n",
    "    # Standardize neighbors\n",
    "    N = scale(N)\n",
    "    return N"
   ]
  },
  {
   "cell_type": "code",
   "execution_count": 14,
   "metadata": {},
   "outputs": [],
   "source": [
    "def sumD(Dxx):\n",
    "    return Dxx[0] + Dxx[1] + Dxx[2]\n",
    "\n",
    "def mutual_info(x, y):\n",
    "    cc_xy = np.histogram2d(x, y)[0]\n",
    "    mi = mutual_info_score(None, None, contingency=cc_xy)\n",
    "    return mi\n",
    "\n",
    "def computeFeatureWeights(t, N):\n",
    "    # cn = {N[:,2], N[:,3] ,N[:,4]} # R, G, B\n",
    "    cn = [2, 3, 4] # R, G, B\n",
    "    # rn = {N[:,0], N[:,1], N[:,23], N[:,24]} # X, Y, U, V\n",
    "    rn = [0, 1, 23, 24] # X, Y, U, V\n",
    "    # pn = {N[:,0], N[:,1]} # X, Y\n",
    "    pn = [0, 1] # X, Y\n",
    "\n",
    "    FEATURECOUNT = 12\n",
    "    # f = N[:,2:14]\n",
    "    f = list(range(2, 14))\n",
    "    \n",
    "    Dcr = [0.0, 0.0, 0.0] # Deps between color and random\n",
    "    Dcp = [0.0, 0.0, 0,0] # Deps between color and position\n",
    "    Dcf = [0.0, 0.0, 0.0] # Deps between color and feature\n",
    "    Wcr = [0.0, 0.0, 0.0] # \n",
    "    epsilon = 1e-10\n",
    "    alpha = [0.0, 0.0, 0.0]\n",
    "    \n",
    "    Dfc = np.zeros(FEATURECOUNT)\n",
    "    for k in range(3):\n",
    "        for j in range(4):\n",
    "            print(N[:,cn[k]])\n",
    "            Dcr[k] += mutual_info(N[:,cn[k]], N[:,rn[j]])\n",
    "        for l in range(2):\n",
    "            Dcp[k] += mutual_info(N[:,cn[k]], N[:,pn[l]])\n",
    "        for l in range(12):\n",
    "            tmp = mutual_info(N[:,cn[k]],N[:,f[l]])\n",
    "            Dcf[k] += tmp\n",
    "            Dfc[l] += tmp\n",
    "\n",
    "        Wcr[k] = Dcr[k] / (Dcr[k] + Dcp[k] + epsilon)\n",
    "        alpha[k] = max(1 - (1 + 0.1 * t) * Wcr[k], 0)\n",
    "        \n",
    "    Dfr = np.zeros(FEATURECOUNT)\n",
    "    Dfp = np.zeros(FEATURECOUNT)\n",
    "    Wfr = np.zeros(FEATURECOUNT)\n",
    "    Wfc = np.zeros(FEATURECOUNT)\n",
    "    beta = np.zeros(FEATURECOUNT)\n",
    "    \n",
    "    for k in range(FEATURECOUNT):\n",
    "        for l in range(4):\n",
    "            Dfr[k] += mutual_info(N[:,f[k]], N[:,rn[l]])\n",
    "        for l in range(2):\n",
    "            Dfp[k] += mutual_info(N[:,f[k]], N[:,pn[l]])\n",
    "        \n",
    "        Wfr[k] = Dfr[k] / (Dfr[k] + Dfp[k] + epsilon)\n",
    "\n",
    "        Wfc[k] = Dfc[k] / (sumD(Dcr) + sumD(Dcp) + sumD(Dcf))\n",
    "        beta[k] = max(1 - (1 + 0.1 * t) * Wfr[k], 0)\n",
    "        \n",
    "    return alpha, beta, Wcr\n",
    "\n"
   ]
  },
  {
   "cell_type": "code",
   "execution_count": 10,
   "metadata": {},
   "outputs": [],
   "source": [
    "def filterColor(x, y, N, alpha, beta, Wcr):\n",
    "    P = samples[x, y, : , :]\n",
    "    v = 0.002\n",
    "    vc = v / (1 - np.mean(Wcr)) ** 2\n",
    "    vf = vc\n",
    "    FEATURECOUNT = 12\n",
    "    for index, i in enumerate(P):\n",
    "        newColor = [0.0, 0.0, 0.0]\n",
    "        w = 0\n",
    "        ci = i[2:5]\n",
    "        fi = i[2:14]\n",
    "        for j in N:\n",
    "            s1 = 0.0\n",
    "            s2 = 0.0\n",
    "            cj = j[2:5]\n",
    "            fj = j[2:14]\n",
    "            for k in range(3):\n",
    "                s1 += alpha[k] * ((ci[k] - cj[k]) ** 2)\n",
    "            for m in range(FEATURECOUNT):\n",
    "                s2 += beta[m] * ((fi[m] - fj[m]) ** 2)\n",
    "            wij = np.exp(-0.5 * (1 / vc) * s1) * np.exp(-0.5 * (1 / vf) * s2)\n",
    "            for k in range(3):\n",
    "                newColor[k] += wij * cj[k]\n",
    "            w += wij\n",
    "        newColor /= w\n",
    "        samples[x, y, index, 2:5] = newColor"
   ]
  },
  {
   "cell_type": "code",
   "execution_count": 11,
   "metadata": {},
   "outputs": [],
   "source": [
    "def boxFilter():\n",
    "    colors = np.zeros([width, height, 3])\n",
    "    colors[:,:,2] = samples[:,:,0:8,2].mean(-1)\n",
    "    colors[:,:,1] = samples[:,:,0:8,3].mean(-1)\n",
    "    colors[:,:,0] = samples[:,:,0:8,4].mean(-1)\n",
    "\n",
    "    cv.imwrite('testres/color.jpg', colors * 255.0)"
   ]
  },
  {
   "cell_type": "code",
   "execution_count": 18,
   "metadata": {},
   "outputs": [
    {
     "name": "stdout",
     "output_type": "stream",
     "text": [
      "[[-1.35227468 -1.01495706         nan ...  0.81626198  0.\n",
      "   0.        ]\n",
      " [-0.21490515 -0.15050624         nan ... -1.26527267  0.\n",
      "   0.        ]\n",
      " [-0.78358991 -0.46371302         nan ...  1.36258201  0.\n",
      "   0.        ]\n",
      " ...\n",
      " [-0.21490515 -0.15050624         nan ... -1.26527267  0.\n",
      "   0.        ]\n",
      " [ 0.85446946  2.32591539  0.50226891 ...  0.89119016  0.\n",
      "   0.        ]\n",
      " [-0.78358991 -0.46371302         nan ...  1.36258201  0.\n",
      "   0.        ]]\n",
      "[        nan         nan         nan         nan         nan         nan\n",
      "         nan         nan -0.75454279 -0.66334221         nan         nan\n",
      "         nan         nan         nan  1.95567192 -0.04453167 -0.61102088\n",
      " -0.6684285          nan -0.68045309         nan         nan  1.95567192\n",
      " -0.71559928  1.60750917 -0.77302567 -0.66334221         nan -0.7347737\n",
      " -0.68045309         nan         nan -0.75728778         nan         nan\n",
      "         nan         nan  1.95567192  1.95567192  1.60750917         nan\n",
      " -0.7347737          nan -0.44849418 -0.7347737  -0.31461227         nan\n",
      "         nan -0.64679119 -0.61176461 -0.56107407 -0.61658323  1.95567192\n",
      "         nan         nan -0.60975742         nan -0.64854218  1.60750917\n",
      "  0.26077083 -0.7347737  -0.71513232 -0.25960705 -0.1795264   1.14713404\n",
      "         nan         nan         nan -0.31461227         nan         nan\n",
      "         nan -0.61658323 -0.1086793          nan -0.6267479  -0.61658323\n",
      "         nan  0.92621995         nan -0.6267479          nan -0.55278255\n",
      "  2.06488329 -0.66503408         nan -0.66433147         nan -0.1795264\n",
      "         nan         nan -0.04453167         nan -0.64881262  2.33683626\n",
      " -0.61102088         nan  0.50226891         nan]\n"
     ]
    },
    {
     "ename": "ValueError",
     "evalue": "autodetected range of [nan, nan] is not finite",
     "output_type": "error",
     "traceback": [
      "\u001b[1;31m---------------------------------------------------------------------------\u001b[0m",
      "\u001b[1;31mValueError\u001b[0m                                Traceback (most recent call last)",
      "Cell \u001b[1;32mIn [18], line 11\u001b[0m\n\u001b[0;32m      9\u001b[0m             N \u001b[39m=\u001b[39m preprocess(i, j, b, maxNumOfSamples)\n\u001b[0;32m     10\u001b[0m             \u001b[39mprint\u001b[39m(N)\n\u001b[1;32m---> 11\u001b[0m             alpha, beta, wcr \u001b[39m=\u001b[39m computeFeatureWeights(t, N)\n\u001b[0;32m     12\u001b[0m             filterColor(i, j, N, alpha, beta, wcr)\n\u001b[0;32m     13\u001b[0m boxFilter()\n",
      "Cell \u001b[1;32mIn [14], line 32\u001b[0m, in \u001b[0;36mcomputeFeatureWeights\u001b[1;34m(t, N)\u001b[0m\n\u001b[0;32m     30\u001b[0m \u001b[39mfor\u001b[39;00m j \u001b[39min\u001b[39;00m \u001b[39mrange\u001b[39m(\u001b[39m4\u001b[39m):\n\u001b[0;32m     31\u001b[0m     \u001b[39mprint\u001b[39m(N[:,cn[k]])\n\u001b[1;32m---> 32\u001b[0m     Dcr[k] \u001b[39m+\u001b[39m\u001b[39m=\u001b[39m mutual_info(N[:,cn[k]], N[:,rn[j]])\n\u001b[0;32m     33\u001b[0m \u001b[39mfor\u001b[39;00m l \u001b[39min\u001b[39;00m \u001b[39mrange\u001b[39m(\u001b[39m2\u001b[39m):\n\u001b[0;32m     34\u001b[0m     Dcp[k] \u001b[39m+\u001b[39m\u001b[39m=\u001b[39m mutual_info(N[:,cn[k]], N[:,pn[l]])\n",
      "Cell \u001b[1;32mIn [14], line 5\u001b[0m, in \u001b[0;36mmutual_info\u001b[1;34m(x, y)\u001b[0m\n\u001b[0;32m      4\u001b[0m \u001b[39mdef\u001b[39;00m \u001b[39mmutual_info\u001b[39m(x, y):\n\u001b[1;32m----> 5\u001b[0m     cc_xy \u001b[39m=\u001b[39m np\u001b[39m.\u001b[39;49mhistogram2d(x, y)[\u001b[39m0\u001b[39m]\n\u001b[0;32m      6\u001b[0m     mi \u001b[39m=\u001b[39m mutual_info_score(\u001b[39mNone\u001b[39;00m, \u001b[39mNone\u001b[39;00m, contingency\u001b[39m=\u001b[39mcc_xy)\n\u001b[0;32m      7\u001b[0m     \u001b[39mreturn\u001b[39;00m mi\n",
      "File \u001b[1;32m<__array_function__ internals>:180\u001b[0m, in \u001b[0;36mhistogram2d\u001b[1;34m(*args, **kwargs)\u001b[0m\n",
      "File \u001b[1;32mc:\\Users\\tinak\\AppData\\Local\\Programs\\Python\\Python311\\Lib\\site-packages\\numpy\\lib\\twodim_base.py:825\u001b[0m, in \u001b[0;36mhistogram2d\u001b[1;34m(x, y, bins, range, normed, weights, density)\u001b[0m\n\u001b[0;32m    823\u001b[0m     xedges \u001b[39m=\u001b[39m yedges \u001b[39m=\u001b[39m asarray(bins)\n\u001b[0;32m    824\u001b[0m     bins \u001b[39m=\u001b[39m [xedges, yedges]\n\u001b[1;32m--> 825\u001b[0m hist, edges \u001b[39m=\u001b[39m histogramdd([x, y], bins, \u001b[39mrange\u001b[39;49m, normed, weights, density)\n\u001b[0;32m    826\u001b[0m \u001b[39mreturn\u001b[39;00m hist, edges[\u001b[39m0\u001b[39m], edges[\u001b[39m1\u001b[39m]\n",
      "File \u001b[1;32m<__array_function__ internals>:180\u001b[0m, in \u001b[0;36mhistogramdd\u001b[1;34m(*args, **kwargs)\u001b[0m\n",
      "File \u001b[1;32mc:\\Users\\tinak\\AppData\\Local\\Programs\\Python\\Python311\\Lib\\site-packages\\numpy\\lib\\histograms.py:1050\u001b[0m, in \u001b[0;36mhistogramdd\u001b[1;34m(sample, bins, range, normed, weights, density)\u001b[0m\n\u001b[0;32m   1047\u001b[0m \u001b[39mif\u001b[39;00m bins[i] \u001b[39m<\u001b[39m \u001b[39m1\u001b[39m:\n\u001b[0;32m   1048\u001b[0m     \u001b[39mraise\u001b[39;00m \u001b[39mValueError\u001b[39;00m(\n\u001b[0;32m   1049\u001b[0m         \u001b[39m'\u001b[39m\u001b[39m`bins[\u001b[39m\u001b[39m{}\u001b[39;00m\u001b[39m]` must be positive, when an integer\u001b[39m\u001b[39m'\u001b[39m\u001b[39m.\u001b[39mformat(i))\n\u001b[1;32m-> 1050\u001b[0m smin, smax \u001b[39m=\u001b[39m _get_outer_edges(sample[:,i], \u001b[39mrange\u001b[39;49m[i])\n\u001b[0;32m   1051\u001b[0m \u001b[39mtry\u001b[39;00m:\n\u001b[0;32m   1052\u001b[0m     n \u001b[39m=\u001b[39m operator\u001b[39m.\u001b[39mindex(bins[i])\n",
      "File \u001b[1;32mc:\\Users\\tinak\\AppData\\Local\\Programs\\Python\\Python311\\Lib\\site-packages\\numpy\\lib\\histograms.py:323\u001b[0m, in \u001b[0;36m_get_outer_edges\u001b[1;34m(a, range)\u001b[0m\n\u001b[0;32m    321\u001b[0m     first_edge, last_edge \u001b[39m=\u001b[39m a\u001b[39m.\u001b[39mmin(), a\u001b[39m.\u001b[39mmax()\n\u001b[0;32m    322\u001b[0m     \u001b[39mif\u001b[39;00m \u001b[39mnot\u001b[39;00m (np\u001b[39m.\u001b[39misfinite(first_edge) \u001b[39mand\u001b[39;00m np\u001b[39m.\u001b[39misfinite(last_edge)):\n\u001b[1;32m--> 323\u001b[0m         \u001b[39mraise\u001b[39;00m \u001b[39mValueError\u001b[39;00m(\n\u001b[0;32m    324\u001b[0m             \u001b[39m\"\u001b[39m\u001b[39mautodetected range of [\u001b[39m\u001b[39m{}\u001b[39;00m\u001b[39m, \u001b[39m\u001b[39m{}\u001b[39;00m\u001b[39m] is not finite\u001b[39m\u001b[39m\"\u001b[39m\u001b[39m.\u001b[39mformat(first_edge, last_edge))\n\u001b[0;32m    326\u001b[0m \u001b[39m# expand empty range to avoid divide by zero\u001b[39;00m\n\u001b[0;32m    327\u001b[0m \u001b[39mif\u001b[39;00m first_edge \u001b[39m==\u001b[39m last_edge:\n",
      "\u001b[1;31mValueError\u001b[0m: autodetected range of [nan, nan] is not finite"
     ]
    }
   ],
   "source": [
    "# boxSizes = [55, 35, 17, 7]\n",
    "# boxSizes = [10, 7, 5, 3]\n",
    "boxSizes = [5, 3]\n",
    "for t in range(len(boxSizes)):\n",
    "    b = boxSizes[t]\n",
    "    maxNumOfSamples = (b * b * spp) // 2\n",
    "    for i in range(height):\n",
    "        for j in range(width):\n",
    "            N = preprocess(i, j, b, maxNumOfSamples)\n",
    "            print(N)\n",
    "            alpha, beta, wcr = computeFeatureWeights(t, N)\n",
    "            filterColor(i, j, N, alpha, beta, wcr)\n",
    "boxFilter()"
   ]
  }
 ],
 "metadata": {
  "kernelspec": {
   "display_name": "Python 3.11.0 64-bit",
   "language": "python",
   "name": "python3"
  },
  "language_info": {
   "codemirror_mode": {
    "name": "ipython",
    "version": 3
   },
   "file_extension": ".py",
   "mimetype": "text/x-python",
   "name": "python",
   "nbconvert_exporter": "python",
   "pygments_lexer": "ipython3",
   "version": "3.11.0"
  },
  "vscode": {
   "interpreter": {
    "hash": "9f9ee14dc01c7980956eac0dc65b03e9cb2bf71953a58759287f201bab344c24"
   }
  }
 },
 "nbformat": 4,
 "nbformat_minor": 4
}

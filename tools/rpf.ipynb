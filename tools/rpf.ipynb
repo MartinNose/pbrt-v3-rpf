{
 "cells": [
  {
   "cell_type": "code",
   "execution_count": 3,
   "metadata": {},
   "outputs": [],
   "source": [
    "import numpy as np\n",
    "import struct\n",
    "from sklearn.feature_selection import mutual_info_regression\n",
    "from sklearn.preprocessing import scale"
   ]
  },
  {
   "cell_type": "code",
   "execution_count": 4,
   "metadata": {},
   "outputs": [
    {
     "name": "stdout",
     "output_type": "stream",
     "text": [
      "100 100 8 28\n",
      "[ 5.82861328e+00  1.05459538e+01  2.56491732e-02  2.56491732e-02\n",
      "  4.10386808e-02 -4.00000000e+02  2.95105316e+02 -1.33042297e+01\n",
      "  0.00000000e+00  0.00000000e+00  0.00000000e+00  5.00000000e-01\n",
      "  5.00000000e-01  8.00000012e-01  0.00000000e+00  0.00000000e+00\n",
      "  0.00000000e+00  0.00000000e+00  0.00000000e+00  0.00000000e+00\n",
      "  0.00000000e+00  0.00000000e+00  0.00000000e+00  1.25136793e-01\n",
      "  3.10504138e-01  5.03994346e-01  0.00000000e+00  0.00000000e+00]\n"
     ]
    }
   ],
   "source": [
    "with open('../scenes/sample.dat', 'rb') as f:\n",
    "    fileContent = f.read()\n",
    "    width, height, spp, SL = struct.unpack(\"QQQQ\", fileContent[:32])\n",
    "    samples = struct.unpack(\"f\" * ((len(fileContent) - 32) // 4), fileContent[32:])\n",
    "    raw = np.array(samples)\n",
    "    samples = np.reshape(raw, (width, height, spp, SL))\n",
    "print(width, height, spp, SL)\n",
    "print(samples[10,5,4,:])    "
   ]
  },
  {
   "cell_type": "code",
   "execution_count": 17,
   "metadata": {},
   "outputs": [],
   "source": [
    "def preprocess(x, y, b, M):\n",
    "    # Sample neighbors based on gaussian distribution\n",
    "    indexN = np.random.multivariate_normal(mean=[x, y], cov=(b/4) * np.identity(2), size=M-spp)\n",
    "    indexN = np.clip(indexN, 0, 99)\n",
    "    indexN = np.around(indexN)\n",
    "    randSampleInPixel = np.random.randint(7, size=(M-spp, 1))\n",
    "    indexN = np.concatenate((indexN,randSampleInPixel), axis = 1)\n",
    "    sampleMapper = lambda v: samples[int(v[0]), int(v[1]), int(v[2]),:]\n",
    "    N = np.apply_along_axis(sampleMapper, 1, indexN)\n",
    "    N = np.concatenate((samples[x, y, :, :], N), axis = 0)\n",
    "    # Cluster samples\n",
    "    discard = []\n",
    "    featOffset = 2\n",
    "    for i in range(4):\n",
    "        feat = N[:, featOffset:featOffset + 3]\n",
    "        featOffset += 3\n",
    "        m = np.mean(feat)\n",
    "        std = np.std(feat)\n",
    "        if std > 0.1:\n",
    "            for j in range(M):\n",
    "                if featOffset == 5:\n",
    "                    if np.abs(m - np.mean(feat[j])) > 30 * std:\n",
    "                        discard.append(j)\n",
    "                else:\n",
    "                    if np.abs(m - np.mean(feat[j])) > 3 * std:\n",
    "                        discard.append(j)\n",
    "    newN = []\n",
    "    for i in range(M):\n",
    "        if i not in discard:\n",
    "            newN.append(N[i])\n",
    "    # Standardize neighbors\n",
    "    N = scale(N)\n",
    "    return N"
   ]
  },
  {
   "cell_type": "code",
   "execution_count": 19,
   "metadata": {},
   "outputs": [],
   "source": [
    "# boxSizes = [55, 35, 17, 7]\n",
    "boxSizes = [10, 7, 5, 3]\n",
    "for t in range(len(boxSizes)):\n",
    "    b = boxSizes[t]\n",
    "    maxNumOfSamples = (b * b * spp) // 2\n",
    "    for i in range(height):\n",
    "        for j in range(width):\n",
    "            N = preprocess(i, j, b, maxNumOfSamples)"
   ]
  },
  {
   "cell_type": "code",
   "execution_count": null,
   "metadata": {},
   "outputs": [],
   "source": []
  }
 ],
 "metadata": {
  "kernelspec": {
   "display_name": "Python 3 (ipykernel)",
   "language": "python",
   "name": "python3"
  },
  "language_info": {
   "codemirror_mode": {
    "name": "ipython",
    "version": 3
   },
   "file_extension": ".py",
   "mimetype": "text/x-python",
   "name": "python",
   "nbconvert_exporter": "python",
   "pygments_lexer": "ipython3",
   "version": "3.11.0"
  }
 },
 "nbformat": 4,
 "nbformat_minor": 4
}

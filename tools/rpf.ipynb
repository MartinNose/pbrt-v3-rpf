{
 "cells": [
  {
   "cell_type": "code",
   "execution_count": 65,
   "metadata": {},
   "outputs": [],
   "source": [
    "import numpy as np\n",
    "import struct\n",
    "from sklearn.metrics import mutual_info_score\n",
    "from sklearn.preprocessing import scale\n",
    "import cv2 as cv\n",
    "from math import floor, ceil"
   ]
  },
  {
   "cell_type": "code",
   "execution_count": 66,
   "metadata": {},
   "outputs": [
    {
     "name": "stdout",
     "output_type": "stream",
     "text": [
      "100 100 8 28\n",
      "[ 5.82861328e+00  1.05459538e+01  2.56491732e-02  2.56491732e-02\n",
      "  4.10386808e-02 -4.00000000e+02  2.95105316e+02 -1.33042297e+01\n",
      "  1.00000000e+00  0.00000000e+00  0.00000000e+00  5.00000000e-01\n",
      "  5.00000000e-01  8.00000012e-01  0.00000000e+00  0.00000000e+00\n",
      "  0.00000000e+00  0.00000000e+00  0.00000000e+00  0.00000000e+00\n",
      "  0.00000000e+00  0.00000000e+00  0.00000000e+00  1.25136793e-01\n",
      "  3.10504138e-01  5.03994346e-01  0.00000000e+00  0.00000000e+00]\n"
     ]
    }
   ],
   "source": [
    "with open('../scenes/sample.dat', 'rb') as f:\n",
    "    fileContent = f.read()\n",
    "    width, height, spp, SL = struct.unpack(\"LLLL\", fileContent[:32])\n",
    "    samples = struct.unpack(\"f\" * ((len(fileContent) - 32) // 4), fileContent[32:])\n",
    "    raw = np.array(samples)\n",
    "    samples = np.reshape(raw, (width, height, spp, SL))\n",
    "print(width, height, spp, SL)\n",
    "print(samples[10,5,4,:])    "
   ]
  },
  {
   "cell_type": "code",
   "execution_count": 67,
   "metadata": {},
   "outputs": [],
   "source": [
    "def preprocess(x, y, b, M):\n",
    "    # Sample neighbors based on gaussian distribution\n",
    "    indexN = np.random.multivariate_normal(mean=[x, y], cov=(b/4) * np.identity(2), size=M-spp)\n",
    "    indexN = np.clip(indexN, 0, 99)\n",
    "    indexN = np.around(indexN)\n",
    "    randSampleInPixel = np.random.randint(7, size=(M-spp, 1))\n",
    "    indexN = np.concatenate((indexN,randSampleInPixel), axis = 1)\n",
    "    sampleMapper = lambda v: samples[int(v[0]), int(v[1]), int(v[2]),:]\n",
    "    N = np.apply_along_axis(sampleMapper, 1, indexN)\n",
    "    N = np.concatenate((samples[x, y, :, :], N), axis = 0)\n",
    "    # Cluster samples\n",
    "    discard = []\n",
    "    featOffset = 2\n",
    "    for i in range(4):\n",
    "        feat = N[:, featOffset:featOffset + 3]\n",
    "        featOffset += 3\n",
    "        m = np.mean(feat)\n",
    "        std = np.std(feat)\n",
    "        if std > 0.1:\n",
    "            for j in range(M):\n",
    "                if featOffset == 5:\n",
    "                    if np.abs(m - np.mean(feat[j])) > 30 * std:\n",
    "                        discard.append(j)\n",
    "                else:\n",
    "                    if np.abs(m - np.mean(feat[j])) > 3 * std:\n",
    "                        discard.append(j)\n",
    "    newN = []\n",
    "    for i in range(M):\n",
    "        if i not in discard:\n",
    "            newN.append(N[i])\n",
    "    # Standardize neighbors\n",
    "    N = scale(N)\n",
    "    return N"
   ]
  },
  {
   "cell_type": "code",
   "execution_count": 68,
   "metadata": {},
   "outputs": [],
   "source": [
    "def sumD(Dxx):\n",
    "    return Dxx[0] + Dxx[1] + Dxx[2]\n",
    "\n",
    "def getRange(x):\n",
    "    return np.arange(floor(x.min()), ceil(x.max()), 1, dtype=int)\n",
    "\n",
    "def mutual_info(x, y):\n",
    "    cc_xy = np.histogram2d(x, y)[0]\n",
    "    mi = mutual_info_score(None, None, contingency=cc_xy)\n",
    "    return mi\n",
    "\n",
    "def computeFeatureWeights(t, N):\n",
    "    # cn = {N[:,2], N[:,3] ,N[:,4]} # R, G, B\n",
    "    cn = [2, 3, 4] # R, G, B\n",
    "    # rn = {N[:,0], N[:,1], N[:,23], N[:,24]} # X, Y, U, V\n",
    "    rn = [0, 1, 23, 24] # X, Y, U, V\n",
    "    # pn = {N[:,0], N[:,1]} # X, Y\n",
    "    pn = [0, 1] # X, Y\n",
    "\n",
    "    FEATURECOUNT = 12\n",
    "    # f = N[:,2:14]\n",
    "    f = list(range(2, 14))\n",
    "    \n",
    "    Dcr = [0.0, 0.0, 0.0] # Deps between color and random\n",
    "    Dcp = [0.0, 0.0, 0,0] # Deps between color and position\n",
    "    Dcf = [0.0, 0.0, 0.0] # Deps between color and feature\n",
    "    Wcr = [0.0, 0.0, 0.0] # \n",
    "    epsilon = 1e-10\n",
    "    alpha = [0.0, 0.0, 0.0]\n",
    "    \n",
    "    Dfc = np.zeros(FEATURECOUNT)\n",
    "    for k in range(3):\n",
    "        for j in range(4):\n",
    "            Dcr[k] += mutual_info(N[:,cn[k]], N[:,rn[j]])\n",
    "        for l in range(2):\n",
    "            Dcp[k] += mutual_info(N[:,cn[k]], N[:,pn[l]])\n",
    "        for l in range(12):\n",
    "            tmp = mutual_info(N[:,cn[k]],N[:,f[l]])\n",
    "            Dcf[k] += tmp\n",
    "            Dfc[l] += tmp\n",
    "\n",
    "        Wcr[k] = Dcr[k] / (Dcr[k] + Dcp[k] + epsilon)\n",
    "        alpha[k] = max(1 - (1 + 0.1 * t) * Wcr[k], 0)\n",
    "        \n",
    "    Dfr = np.zeros(FEATURECOUNT)\n",
    "    Dfp = np.zeros(FEATURECOUNT)\n",
    "    Wfr = np.zeros(FEATURECOUNT)\n",
    "    Wfc = np.zeros(FEATURECOUNT)\n",
    "    beta = np.zeros(FEATURECOUNT)\n",
    "    \n",
    "    for k in range(FEATURECOUNT):\n",
    "        for l in range(4):\n",
    "            Dfr[k] += mutual_info(N[:,f[k]], N[:,rn[l]])\n",
    "        for l in range(2):\n",
    "            Dfp[k] += mutual_info(N[:,f[k]], N[:,pn[l]])\n",
    "        \n",
    "        Wfr[k] = Dfr[k] / (Dfr[k] + Dfp[k] + epsilon)\n",
    "\n",
    "        Wfc[k] = Dfc[k] / (sumD(Dcr) + sumD(Dcp) + sumD(Dcf))\n",
    "        beta[k] = max(1 - (1 + 0.1 * t) * Wfr[k], 0)\n",
    "        \n",
    "    return alpha, beta, Wcr\n",
    "\n"
   ]
  },
  {
   "cell_type": "code",
   "execution_count": 69,
   "metadata": {},
   "outputs": [],
   "source": [
    "def filterColor(x, y, N, alpha, beta, Wcr):\n",
    "    P = samples[x, y, : , :]\n",
    "    v = 0.002\n",
    "    vc = v / (1 - Wcr) ** 2\n",
    "    vf = vc\n",
    "    for i in P:\n",
    "        newColor = 0\n",
    "        w = 0\n",
    "        for j in N:\n",
    "            # TODO: Gaussian formula\n",
    "            wij = np.exp(-0.5 * (1 / vc)) * np.exp(-0.5 * (1 / vf))\n",
    "            newColor += wij * cj\n",
    "            w += wij\n",
    "        newColor /= w\n",
    "        # TODO: Update color in samples"
   ]
  },
  {
   "cell_type": "code",
   "execution_count": 70,
   "metadata": {},
   "outputs": [],
   "source": [
    "def boxFilter():\n",
    "    colors = np.zeros([width, height, 3])\n",
    "    colors[:,:,2] = samples[:,:,0:8,2].mean(-1)\n",
    "    colors[:,:,1] = samples[:,:,0:8,3].mean(-1)\n",
    "    colors[:,:,0] = samples[:,:,0:8,4].mean(-1)\n",
    "\n",
    "    cv.imwrite('testres/color.jpg', colors * 255.0)"
   ]
  },
  {
   "cell_type": "code",
   "execution_count": 71,
   "metadata": {},
   "outputs": [
    {
     "name": "stdout",
     "output_type": "stream",
     "text": [
      "[0.2975169690328686, 0.2975169690328686, 0.2939777652217862] [0.29751697 0.29751697 0.29397777 0.26636734 0.23434784 0.23998529\n",
      " 1.         1.         1.         1.         1.         1.        ] [0.7024830309671314, 0.7024830309671314, 0.7060222347782138]\n",
      "[0.21033318652775546, 0.21033318652775546, 0.2172147557058175] [0.21033319 0.21033319 0.21721476 0.19698649 0.16314124 0.17107217\n",
      " 1.         1.         1.         1.         1.         1.        ] [0.717878921338404, 0.717878921338404, 0.7116229493583477]\n",
      "[0.16716511983431137, 0.16716511983431137, 0.17594303753555673] [0.16716512 0.16716512 0.17594304 0.20128818 0.13654163 0.13920736\n",
      " 0.99999267 0.99999267 0.99999267 0.99999267 0.99999267 0.99999267] [0.6940290668047405, 0.6940290668047405, 0.6867141353870361]\n",
      "[0.1476958840542335, 0.1476958840542335, 0.15731172562343432] [0.14769588 0.14769588 0.15731173 0.13788486 0.12657818 0.12208259\n",
      " 1.         1.         1.         1.         1.         1.        ] [0.6556185507275126, 0.6556185507275126, 0.6482217495204351]\n"
     ]
    }
   ],
   "source": [
    "boxSizes = [10, 7, 5, 3]\n",
    "for t in range(len(boxSizes)):\n",
    "    b = boxSizes[t]\n",
    "    maxNumOfSamples = (b * b * spp) // 2\n",
    "    for i in range(height):\n",
    "        for j in range(width):\n",
    "            N = preprocess(i, j, b, maxNumOfSamples)\n",
    "            alpha, beta, Wcr = computeFeatureWeights(t, N)\n",
    "            print(alpha, beta, Wcr)\n",
    "            break\n",
    "        break\n",
    "            # TODO: add filterColor()"
   ]
  }
 ],
 "metadata": {
  "kernelspec": {
   "display_name": "Python 3.8.0 64-bit ('3.8.0')",
   "language": "python",
   "name": "python3"
  },
  "language_info": {
   "codemirror_mode": {
    "name": "ipython",
    "version": 3
   },
   "file_extension": ".py",
   "mimetype": "text/x-python",
   "name": "python",
   "nbconvert_exporter": "python",
   "pygments_lexer": "ipython3",
   "version": "3.8.0"
  },
  "vscode": {
   "interpreter": {
    "hash": "ab48accf44aa38958391eced01ebe86b3300e37060bc5b2daecfd6950e4120e2"
   }
  }
 },
 "nbformat": 4,
 "nbformat_minor": 4
}

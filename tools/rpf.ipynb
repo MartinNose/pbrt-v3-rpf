{
 "cells": [
  {
   "cell_type": "code",
   "execution_count": 9,
   "metadata": {},
   "outputs": [
    {
     "ename": "ModuleNotFoundError",
     "evalue": "No module named 'cv2'",
     "output_type": "error",
     "traceback": [
      "\u001b[1;31m---------------------------------------------------------------------------\u001b[0m",
      "\u001b[1;31mModuleNotFoundError\u001b[0m                       Traceback (most recent call last)",
      "Cell \u001b[1;32mIn [9], line 5\u001b[0m\n\u001b[0;32m      3\u001b[0m \u001b[39mfrom\u001b[39;00m \u001b[39msklearn\u001b[39;00m\u001b[39m.\u001b[39;00m\u001b[39mmetrics\u001b[39;00m \u001b[39mimport\u001b[39;00m mutual_info_score\n\u001b[0;32m      4\u001b[0m \u001b[39mfrom\u001b[39;00m \u001b[39msklearn\u001b[39;00m\u001b[39m.\u001b[39;00m\u001b[39mpreprocessing\u001b[39;00m \u001b[39mimport\u001b[39;00m scale\n\u001b[1;32m----> 5\u001b[0m \u001b[39mimport\u001b[39;00m \u001b[39mcv2\u001b[39;00m \u001b[39mas\u001b[39;00m \u001b[39mcv\u001b[39;00m\n",
      "\u001b[1;31mModuleNotFoundError\u001b[0m: No module named 'cv2'"
     ]
    }
   ],
   "source": [
    "import numpy as np\n",
    "import struct\n",
    "from sklearn.metrics import mutual_info_score\n",
    "from sklearn.preprocessing import scale\n",
    "import cv2 as cv"
   ]
  },
  {
   "cell_type": "code",
   "execution_count": 7,
   "metadata": {},
   "outputs": [
    {
     "name": "stdout",
     "output_type": "stream",
     "text": [
      "100 100 8 28\n",
      "[ 5.82861328e+00  1.05459538e+01  2.56491732e-02  2.56491732e-02\n",
      "  4.10386808e-02 -4.00000000e+02  2.95105316e+02 -1.33042297e+01\n",
      "  0.00000000e+00  0.00000000e+00  0.00000000e+00  5.00000000e-01\n",
      "  5.00000000e-01  8.00000012e-01  0.00000000e+00  0.00000000e+00\n",
      "  0.00000000e+00  0.00000000e+00  0.00000000e+00  0.00000000e+00\n",
      "  0.00000000e+00  0.00000000e+00  0.00000000e+00  1.25136793e-01\n",
      "  3.10504138e-01  5.03994346e-01  0.00000000e+00  0.00000000e+00]\n"
     ]
    }
   ],
   "source": [
    "with open('../scenes/sample.dat', 'rb') as f:\n",
    "    fileContent = f.read()\n",
    "    width, height, spp, SL = struct.unpack(\"QQQQ\", fileContent[:32])\n",
    "    samples = struct.unpack(\"f\" * ((len(fileContent) - 32) // 4), fileContent[32:])\n",
    "    raw = np.array(samples)\n",
    "    samples = np.reshape(raw, (width, height, spp, SL))\n",
    "print(width, height, spp, SL)\n",
    "print(samples[10,5,4,:])    "
   ]
  },
  {
   "cell_type": "code",
   "execution_count": 17,
   "metadata": {},
   "outputs": [],
   "source": [
    "def preprocess(x, y, b, M):\n",
    "    # Sample neighbors based on gaussian distribution\n",
    "    indexN = np.random.multivariate_normal(mean=[x, y], cov=(b/4) * np.identity(2), size=M-spp)\n",
    "    indexN = np.clip(indexN, 0, 99)\n",
    "    indexN = np.around(indexN)\n",
    "    randSampleInPixel = np.random.randint(7, size=(M-spp, 1))\n",
    "    indexN = np.concatenate((indexN,randSampleInPixel), axis = 1)\n",
    "    sampleMapper = lambda v: samples[int(v[0]), int(v[1]), int(v[2]),:]\n",
    "    N = np.apply_along_axis(sampleMapper, 1, indexN)\n",
    "    N = np.concatenate((samples[x, y, :, :], N), axis = 0)\n",
    "    # Cluster samples\n",
    "    discard = []\n",
    "    featOffset = 2\n",
    "    for i in range(4):\n",
    "        feat = N[:, featOffset:featOffset + 3]\n",
    "        featOffset += 3\n",
    "        m = np.mean(feat)\n",
    "        std = np.std(feat)\n",
    "        if std > 0.1:\n",
    "            for j in range(M):\n",
    "                if featOffset == 5:\n",
    "                    if np.abs(m - np.mean(feat[j])) > 30 * std:\n",
    "                        discard.append(j)\n",
    "                else:\n",
    "                    if np.abs(m - np.mean(feat[j])) > 3 * std:\n",
    "                        discard.append(j)\n",
    "    newN = []\n",
    "    for i in range(M):\n",
    "        if i not in discard:\n",
    "            newN.append(N[i])\n",
    "    # Standardize neighbors\n",
    "    N = scale(N)\n",
    "    return N"
   ]
  },
  {
   "cell_type": "code",
   "execution_count": 1,
   "metadata": {},
   "outputs": [
    {
     "ename": "SyntaxError",
     "evalue": "invalid syntax (1867547202.py, line 23)",
     "output_type": "error",
     "traceback": [
      "\u001b[0;36m  Cell \u001b[0;32mIn [1], line 23\u001b[0;36m\u001b[0m\n\u001b[0;31m    for i in range(3)\u001b[0m\n\u001b[0m                     ^\u001b[0m\n\u001b[0;31mSyntaxError\u001b[0m\u001b[0;31m:\u001b[0m invalid syntax\n"
     ]
    }
   ],
   "source": [
    "def sumD(Dxx):\n",
    "    return Dxx[0] + Dxx[1] + Dxx[2]\n",
    "\n",
    "def computeFeatureWeights(t, N):\n",
    "    cn = {N[:,2], N[:,3] ,N[:,4]} # R, G, B\n",
    "    rn = {N[:,0], N[:,1], N[:,23], N[:,24]} # X, Y, U, V\n",
    "    pn = {N[:,0], N[:,1]} # X, Y\n",
    "    FEATURECOUNT = 12\n",
    "    f = N[:,2:14]\n",
    "    Dcr = [0.0, 0.0, 0.0] # Deps between color and random\n",
    "    Dcp = [0.0, 0.0, 0,0] # Deps between color and position\n",
    "    Dcf = [0.0, 0.0, 0.0] # Deps between color and feature\n",
    "    Wcr = [0.0, 0.0, 0.0]\n",
    "    epsilon = 1e-10\n",
    "    alpha = [0.0, 0.0, 0.0]\n",
    "    \n",
    "    Dfc = np.zeros(FEATURECOUNT)\n",
    "    for k in range(3):\n",
    "        for j in range(4):\n",
    "            Dcr[k] += mutual_info_score(cn[k], rn[j])\n",
    "        for l in range(2):\n",
    "            Dcp[k] += mutual_info_score(cn[k], pn[l])\n",
    "        for l in range(12):\n",
    "            tmp = mutual_info_score(cn[k],f[:,l])\n",
    "            Dcf[k] += tmp\n",
    "            Dfc[l] += tmp\n",
    "\n",
    "        Wcr[k] = Dcr[k] / (Dcr[k] + Dcp[k] + epsilon)\n",
    "        alpha[k] = max(1 - (1 + 0.1 * t) * Wcr[k], 0)\n",
    "        \n",
    "    Dfr = np.zeros(FEATURECOUNT)\n",
    "    Dfp = np.zeros(FEATURECOUNT)\n",
    "    Wfr = np.zeros(FEATURECOUNT)\n",
    "    Wfc = np.zeros(FEATURECOUNT)\n",
    "    beta = np.zeros(FEATURECOUNT)\n",
    "    \n",
    "    \n",
    "    for k in range(FEATURECOUNT):\n",
    "        for l in range(4):\n",
    "            Dfr[k] += mutual_info_score(f[:,k], rn[l])\n",
    "        for l in range(2):\n",
    "            Dfp[k] += mutual_info_score(f[:,k], pn[l])\n",
    "        \n",
    "        Wfr[k] = Dfr[k] / (Dfr[k] + Dfp[k] + epsilon)\n",
    "\n",
    "        Wfc[k] = Dfc[k] / (sumD(Dcr) + sumD(Dcp) + sumD(Dcf))\n",
    "        beta[k] = max(1 - (1 + 0.1 * t) * Wfr[k], 0)\n",
    "        \n",
    "    return alpha, beta, Wcr\n",
    "\n"
   ]
  },
  {
   "cell_type": "code",
   "execution_count": 6,
   "metadata": {},
   "outputs": [
    {
     "ename": "SyntaxError",
     "evalue": "invalid syntax (4011678892.py, line 11)",
     "output_type": "error",
     "traceback": [
      "\u001b[1;36m  Cell \u001b[1;32mIn [6], line 11\u001b[1;36m\u001b[0m\n\u001b[1;33m    wij =\u001b[0m\n\u001b[1;37m          ^\u001b[0m\n\u001b[1;31mSyntaxError\u001b[0m\u001b[1;31m:\u001b[0m invalid syntax\n"
     ]
    }
   ],
   "source": [
    "def filterColor(x, y, N, alpha, beta, Wcr):\n",
    "    P = samples[x, y, : , :]\n",
    "    v = 0.002\n",
    "    vc = v / (1 - Wcr) ** 2\n",
    "    vf = vc\n",
    "    for i in P:\n",
    "        newColor = 0\n",
    "        w = 0\n",
    "        for j in N:\n",
    "            # TODO: Gaussian formula\n",
    "            wij = np.exp(-0.5 * (1 / vc)) * np.exp(-0.5 * (1 / vf))\n",
    "            newColor += wij * cj\n",
    "            w += wij\n",
    "        newColor /= w\n",
    "        # TODO: Update color in samples"
   ]
  },
  {
   "cell_type": "code",
   "execution_count": null,
   "metadata": {},
   "outputs": [],
   "source": [
    "def boxFilter():\n",
    "    colors = np.zeros([width, height, 3])\n",
    "    colors[:,:,2] = samples[:,:,0:8,2].mean(-1)\n",
    "    colors[:,:,1] = samples[:,:,0:8,3].mean(-1)\n",
    "    colors[:,:,0] = samples[:,:,0:8,4].mean(-1)\n",
    "\n",
    "    cv.imwrite('testres/color.jpg', colors * 255.0)"
   ]
  },
  {
   "cell_type": "code",
   "execution_count": null,
   "metadata": {},
   "outputs": [],
   "source": [
    "# boxSizes = [55, 35, 17, 7]\n",
    "boxSizes = [10, 7, 5, 3]\n",
    "for t in range(len(boxSizes)):\n",
    "    b = boxSizes[t]\n",
    "    maxNumOfSamples = (b * b * spp) // 2\n",
    "    for i in range(height):\n",
    "        for j in range(width):\n",
    "            N = preprocess(i, j, b, maxNumOfSamples)"
   ]
  },
  {
   "cell_type": "code",
   "execution_count": null,
   "metadata": {},
   "outputs": [],
   "source": [
    "s = [55, 35, 17, 7]\n",
    "boxSizes = [10, 7, 5, 3]\n",
    "for t in range(len(boxSizes)):\n",
    "    b = boxSizes[t]\n",
    "    maxNumOfSamples = (b * b * spp) // 2\n",
    "    for i in range(height):\n",
    "        for j in range(width):\n",
    "            N = preprocess(i, j, b, maxNumOfSamples)"
   ]
  },
  {
   "cell_type": "code",
   "execution_count": null,
   "metadata": {},
   "outputs": [],
   "source": []
  }
 ],
 "metadata": {
  "kernelspec": {
   "display_name": "Python 3.8.0 64-bit ('3.8.0')",
   "language": "python",
   "name": "python3"
  },
  "language_info": {
   "codemirror_mode": {
    "name": "ipython",
    "version": 3
   },
   "file_extension": ".py",
   "mimetype": "text/x-python",
   "name": "python",
   "nbconvert_exporter": "python",
   "pygments_lexer": "ipython3",
   "version": "3.8.0"
  },
  "vscode": {
   "interpreter": {
    "hash": "ab48accf44aa38958391eced01ebe86b3300e37060bc5b2daecfd6950e4120e2"
   }
  }
 },
 "nbformat": 4,
 "nbformat_minor": 4
}
